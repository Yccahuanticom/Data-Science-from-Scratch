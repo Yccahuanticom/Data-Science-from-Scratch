{
 "cells": [
  {
   "cell_type": "markdown",
   "metadata": {
    "slideshow": {
     "slide_type": "slide"
    }
   },
   "source": [
    "# DATA SCIENCE FROM SCRATCH\n",
    "\n",
    "By: Yaneth Ccahuantico Mendoza\n",
    "\n",
    "## CAPÍTULO N° 2. Curso Rápido de Python\n"
   ]
  },
  {
   "cell_type": "code",
   "execution_count": 3,
   "metadata": {
    "slideshow": {
     "slide_type": "fragment"
    }
   },
   "outputs": [
    {
     "name": "stdout",
     "output_type": "stream",
     "text": [
      "1\n",
      "1\n",
      "2\n",
      "2\n",
      "3\n",
      "3\n",
      "4\n",
      "4\n",
      "5\n",
      "5\n",
      "6\n",
      "1\n",
      "2\n",
      "1\n",
      "3\n",
      "2\n",
      "4\n",
      "3\n",
      "5\n",
      "4\n",
      "6\n",
      "5\n",
      "7\n",
      "2\n",
      "3\n",
      "1\n",
      "4\n",
      "2\n",
      "5\n",
      "3\n",
      "6\n",
      "4\n",
      "7\n",
      "5\n",
      "8\n",
      "3\n",
      "4\n",
      "1\n",
      "5\n",
      "2\n",
      "6\n",
      "3\n",
      "7\n",
      "4\n",
      "8\n",
      "5\n",
      "9\n",
      "4\n",
      "5\n",
      "1\n",
      "6\n",
      "2\n",
      "7\n",
      "3\n",
      "8\n",
      "4\n",
      "9\n",
      "5\n",
      "10\n",
      "5\n",
      "done looping\n"
     ]
    }
   ],
   "source": [
    "# Whitespace Formatting\n",
    "\n",
    "for i in [1,2,3,4,5]:\n",
    "    print (i)\n",
    "    for j in [1,2,3,4,5]:\n",
    "        print (j)\n",
    "        print (i+j)\n",
    "    print (i)\n",
    "print (\"done looping\")"
   ]
  },
  {
   "cell_type": "code",
   "execution_count": 4,
   "metadata": {
    "slideshow": {
     "slide_type": "subslide"
    }
   },
   "outputs": [
    {
     "name": "stdout",
     "output_type": "stream",
     "text": [
      "210\n"
     ]
    }
   ],
   "source": [
    "long_winded_computation = (1 + 2 + 3 + 4 + 5 + 6 + 7 + 8 + 9 + 10 + 11 + 12 + 13 + 14 + 15 + 16 + 17 + 18 + 19 + 20)\n",
    "\n",
    "print (long_winded_computation)"
   ]
  },
  {
   "cell_type": "code",
   "execution_count": 6,
   "metadata": {},
   "outputs": [
    {
     "name": "stdout",
     "output_type": "stream",
     "text": [
      "[[1, 2, 3], [4, 5, 6], [7, 8, 9]]\n",
      "[[1, 2, 3], [4, 5, 6], [7, 8, 9]]\n"
     ]
    }
   ],
   "source": [
    "# and for making code easier to read:\n",
    "\n",
    "list_of_lists = [[1, 2, 3], [4, 5, 6], [7, 8, 9]]\n",
    "\n",
    "easier_to_read_list_of_lists = [ [1, 2, 3], [4, 5, 6], [7, 8, 9] ]\n",
    "\n",
    "print(list_of_lists)\n",
    "print(easier_to_read_list_of_lists)"
   ]
  },
  {
   "cell_type": "code",
   "execution_count": 8,
   "metadata": {},
   "outputs": [
    {
     "data": {
      "text/plain": [
       "5"
      ]
     },
     "execution_count": 8,
     "metadata": {},
     "output_type": "execute_result"
    }
   ],
   "source": [
    "# You can also use a backslash to indicate that a statement continues onto the next line, although we’ll rarely do this:\n",
    "two_plus_three = 2 + \\\n",
    "3\n",
    "two_plus_three"
   ]
  },
  {
   "cell_type": "code",
   "execution_count": 10,
   "metadata": {
    "slideshow": {
     "slide_type": "subslide"
    }
   },
   "outputs": [
    {
     "name": "stdout",
     "output_type": "stream",
     "text": [
      "1\n",
      "2\n",
      "3\n",
      "4\n",
      "5\n"
     ]
    }
   ],
   "source": [
    "# One consequence of whitespace formatting is that it can be hard to copy and paste code\n",
    "# into the Python shell. For example, if you tried to paste the code: \n",
    "\n",
    "for i in [1, 2, 3, 4, 5]:\n",
    "    #Notar el espacio en blanco\n",
    "    print (i)\n"
   ]
  },
  {
   "cell_type": "markdown",
   "metadata": {
    "slideshow": {
     "slide_type": "slide"
    }
   },
   "source": [
    "# Módulos"
   ]
  },
  {
   "cell_type": "code",
   "execution_count": 11,
   "metadata": {
    "slideshow": {
     "slide_type": "subslide"
    }
   },
   "outputs": [
    {
     "data": {
      "text/plain": [
       "re.compile(r'[0-9]+', re.IGNORECASE|re.UNICODE)"
      ]
     },
     "execution_count": 11,
     "metadata": {},
     "output_type": "execute_result"
    }
   ],
   "source": [
    "import re\n",
    "\n",
    "#Podemos acceder a estas funciones tenemos que añadir -para este caso- el prefijo 're'\n",
    "my_regex = re.compile(\"[0-9]+\", re.I)\n",
    "my_regex"
   ]
  },
  {
   "cell_type": "code",
   "execution_count": 12,
   "metadata": {},
   "outputs": [
    {
     "data": {
      "text/plain": [
       "re.compile(r'[0-9]+', re.IGNORECASE|re.UNICODE)"
      ]
     },
     "execution_count": 12,
     "metadata": {},
     "output_type": "execute_result"
    }
   ],
   "source": [
    "# If you already had a different re in your code you could use an alias:\n",
    "import re as regex\n",
    "my_regex = regex.compile(\"[0-9]+\", regex.I)\n",
    "my_regex"
   ]
  },
  {
   "cell_type": "code",
   "execution_count": 13,
   "metadata": {
    "slideshow": {
     "slide_type": "subslide"
    }
   },
   "outputs": [],
   "source": [
    "# Importing matplotlib\n",
    "\n",
    "import matplotlib.pyplot as plt"
   ]
  },
  {
   "cell_type": "code",
   "execution_count": 14,
   "metadata": {},
   "outputs": [
    {
     "data": {
      "text/plain": [
       "Counter()"
      ]
     },
     "execution_count": 14,
     "metadata": {},
     "output_type": "execute_result"
    }
   ],
   "source": [
    "from collections import defaultdict, Counter\n",
    "lookup = defaultdict(int)\n",
    "my_counter = Counter()\n",
    "my_counter"
   ]
  },
  {
   "cell_type": "code",
   "execution_count": 15,
   "metadata": {},
   "outputs": [
    {
     "name": "stdout",
     "output_type": "stream",
     "text": [
      "<function match at 0x000001C242C08A60>\n"
     ]
    }
   ],
   "source": [
    "# you could import the entire contents of a module into your namespace\n",
    "\n",
    "match = 10\n",
    "from re import * # uh oh, re has a match function\n",
    "print (match) # \"<function re.match>\""
   ]
  },
  {
   "cell_type": "markdown",
   "metadata": {},
   "source": [
    "# Aritmética"
   ]
  },
  {
   "cell_type": "code",
   "execution_count": 18,
   "metadata": {
    "slideshow": {
     "slide_type": "subslide"
    }
   },
   "outputs": [
    {
     "name": "stdout",
     "output_type": "stream",
     "text": [
      "2.5\n",
      "2\n"
     ]
    }
   ],
   "source": [
    "# Import division\n",
    "\n",
    "from __future__ import division\n",
    "\n",
    "print(5 / 2)\n",
    "print(5 // 2)"
   ]
  },
  {
   "cell_type": "markdown",
   "metadata": {
    "slideshow": {
     "slide_type": "slide"
    }
   },
   "source": [
    "# Funciones\n",
    "\n",
    "A function is a rule for taking zero or more inputs and returning a corresponding output. In Python, we typically define functions using def:"
   ]
  },
  {
   "cell_type": "code",
   "execution_count": 20,
   "metadata": {
    "slideshow": {
     "slide_type": "subslide"
    }
   },
   "outputs": [
    {
     "data": {
      "text/plain": [
       "'this is where you put an optional docstring\\nthat explains what the function does.\\nfor example, this function multiplies its input by 2'"
      ]
     },
     "execution_count": 20,
     "metadata": {},
     "output_type": "execute_result"
    }
   ],
   "source": [
    "# first function\n",
    "\n",
    "def double(x):\n",
    "    return x*2\n",
    "\n",
    "\"\"\"this is where you put an optional docstring\n",
    "that explains what the function does.\n",
    "for example, this function multiplies its input by 2\"\"\"\n"
   ]
  },
  {
   "cell_type": "code",
   "execution_count": 24,
   "metadata": {},
   "outputs": [
    {
     "name": "stdout",
     "output_type": "stream",
     "text": [
      "6\n"
     ]
    },
    {
     "data": {
      "text/plain": [
       "12"
      ]
     },
     "execution_count": 24,
     "metadata": {},
     "output_type": "execute_result"
    }
   ],
   "source": [
    "x = int(input())\n",
    "double(x)"
   ]
  },
  {
   "cell_type": "code",
   "execution_count": 27,
   "metadata": {},
   "outputs": [
    {
     "data": {
      "text/plain": [
       "2"
      ]
     },
     "execution_count": 27,
     "metadata": {},
     "output_type": "execute_result"
    }
   ],
   "source": [
    "# Python functions are first-class, which means that we can assign them to variables and pass them into functions just like any other arguments:\n",
    "\n",
    "def apply_to_one(f):\n",
    "    return f(1)\n",
    "\"\"\"calls the function f with 1 as its argument\"\"\"\n",
    "\n",
    "\n",
    "my_double = double # refers to the previously defined function\n",
    "x = apply_to_one(my_double) # equals 2\n",
    "x"
   ]
  },
  {
   "cell_type": "code",
   "execution_count": 29,
   "metadata": {},
   "outputs": [
    {
     "data": {
      "text/plain": [
       "5"
      ]
     },
     "execution_count": 29,
     "metadata": {},
     "output_type": "execute_result"
    }
   ],
   "source": [
    "# It is also easy to create short anonymous functions, or lambdas:\n",
    "y = apply_to_one(lambda x: x + 4) # equals 5\n",
    "y"
   ]
  },
  {
   "cell_type": "code",
   "execution_count": 30,
   "metadata": {},
   "outputs": [],
   "source": [
    "# You can assign lambdas to variables, although most people will tell you that you should just use def instead:\n",
    "another_double = lambda x: 2 * x # don't do \n",
    "\n",
    "def another_double(x): return 2 * x # do this instead"
   ]
  },
  {
   "cell_type": "code",
   "execution_count": 32,
   "metadata": {
    "slideshow": {
     "slide_type": "subslide"
    }
   },
   "outputs": [
    {
     "name": "stdout",
     "output_type": "stream",
     "text": [
      "hello\n",
      "my default message\n"
     ]
    }
   ],
   "source": [
    "# Function parameters can also be given default arguments, which only need to be specified when you want a value other than the default:\n",
    "\n",
    "def my_print(message=\"my default message\"):\n",
    "    print (message)\n",
    "\n",
    "my_print(\"hello\") #imprime 'hello'\n",
    "my_print()        #imprime 'my default message'"
   ]
  },
  {
   "cell_type": "code",
   "execution_count": 33,
   "metadata": {
    "slideshow": {
     "slide_type": "subslide"
    }
   },
   "outputs": [
    {
     "data": {
      "text/plain": [
       "-5"
      ]
     },
     "execution_count": 33,
     "metadata": {},
     "output_type": "execute_result"
    }
   ],
   "source": [
    "# It is sometimes useful to specify arguments by name:\n",
    "def subtract(a=0,b=0):\n",
    "    return a-b\n",
    "\n",
    "subtract(10,5) #retorna 5\n",
    "subtract(0,5)  #retorna -5\n",
    "subtract(b=5)  #retorna -5"
   ]
  },
  {
   "cell_type": "markdown",
   "metadata": {
    "slideshow": {
     "slide_type": "slide"
    }
   },
   "source": [
    "# Cadenas"
   ]
  },
  {
   "cell_type": "code",
   "execution_count": 34,
   "metadata": {
    "slideshow": {
     "slide_type": "subslide"
    }
   },
   "outputs": [
    {
     "name": "stdout",
     "output_type": "stream",
     "text": [
      "data science\n",
      "data science\n"
     ]
    }
   ],
   "source": [
    "# Strings can be delimited by single or double quotation marks (but the quotes have to match):\n",
    "\n",
    "single_quoted_string = 'data science'\n",
    "double_quoted_string = \"data science\"\n",
    "\n",
    "print (single_quoted_string)\n",
    "print (double_quoted_string)"
   ]
  },
  {
   "cell_type": "code",
   "execution_count": 35,
   "metadata": {
    "slideshow": {
     "slide_type": "subslide"
    }
   },
   "outputs": [
    {
     "data": {
      "text/plain": [
       "1"
      ]
     },
     "execution_count": 35,
     "metadata": {},
     "output_type": "execute_result"
    }
   ],
   "source": [
    "# Python uses backslashes to encode special characters. For example:\n",
    "\n",
    "tab_string = \"\\t\" # represents the tab character\n",
    "len(tab_string) # is 1\n"
   ]
  },
  {
   "cell_type": "code",
   "execution_count": 36,
   "metadata": {
    "slideshow": {
     "slide_type": "subslide"
    }
   },
   "outputs": [
    {
     "data": {
      "text/plain": [
       "2"
      ]
     },
     "execution_count": 36,
     "metadata": {},
     "output_type": "execute_result"
    }
   ],
   "source": [
    "# If you want backslashes as backslashes (which you might in Windows directory names or\n",
    "# in regular expressions), you can create raw strings using r\"\":\n",
    "\n",
    "not_tab_string = r\"\\t\" # represents the characters '\\' and 't'\n",
    "len(not_tab_string) # is 2"
   ]
  },
  {
   "cell_type": "code",
   "execution_count": 37,
   "metadata": {
    "slideshow": {
     "slide_type": "subslide"
    }
   },
   "outputs": [
    {
     "name": "stdout",
     "output_type": "stream",
     "text": [
      "This is the first line.\n",
      "and this is the second line\n",
      "and this is the third line\n"
     ]
    }
   ],
   "source": [
    "# You can create multiline strings using triple-[double-]-quotes:\n",
    "multi_line_string = \"\"\"This is the first line.\n",
    "and this is the second line\n",
    "and this is the third line\"\"\"\n",
    "\n",
    "print (multi_line_string)"
   ]
  },
  {
   "cell_type": "markdown",
   "metadata": {
    "slideshow": {
     "slide_type": "slide"
    }
   },
   "source": [
    "# Excepciones"
   ]
  },
  {
   "cell_type": "code",
   "execution_count": 41,
   "metadata": {
    "slideshow": {
     "slide_type": "subslide"
    }
   },
   "outputs": [
    {
     "name": "stdout",
     "output_type": "stream",
     "text": [
      "cannot divide by zero\n"
     ]
    }
   ],
   "source": [
    "# When something goes wrong, Python raises an exception. Unhandled, these will cause\n",
    "# your program to crash. You can handle them using try and except:\n",
    "\n",
    "try:\n",
    "    print (0 / 0)\n",
    "except ZeroDivisionError:\n",
    "    print (\"cannot divide by zero\")"
   ]
  },
  {
   "cell_type": "markdown",
   "metadata": {},
   "source": [
    "# Listas"
   ]
  },
  {
   "cell_type": "markdown",
   "metadata": {
    "slideshow": {
     "slide_type": "slide"
    }
   },
   "source": [
    "Probably the most fundamental data structure in Python is the list. A list is simply an\n",
    "ordered collection. (It is similar to what in other languages might be called an array, but\n",
    "with some added functionality.)"
   ]
  },
  {
   "cell_type": "code",
   "execution_count": 42,
   "metadata": {
    "slideshow": {
     "slide_type": "subslide"
    }
   },
   "outputs": [
    {
     "name": "stdout",
     "output_type": "stream",
     "text": [
      "3\n",
      "6\n"
     ]
    }
   ],
   "source": [
    "integer_list = [1, 2, 3]\n",
    "heterogeneous_list = [\"string\", 0.1, True]\n",
    "list_of_lists = [ integer_list, heterogeneous_list, [] ]\n",
    "\n",
    "list_length = len(integer_list) # imprime 3\n",
    "list_sum = sum(integer_list)    # imprime 6\n",
    "\n",
    "print (list_length)\n",
    "print (list_sum)"
   ]
  },
  {
   "cell_type": "code",
   "execution_count": 43,
   "metadata": {
    "slideshow": {
     "slide_type": "subslide"
    }
   },
   "outputs": [
    {
     "name": "stdout",
     "output_type": "stream",
     "text": [
      "range(0, 10)\n",
      "0\n",
      "1\n",
      "9\n",
      "8\n"
     ]
    }
   ],
   "source": [
    "# You can get or set the nth element of a list with square brackets:\n",
    "\n",
    "x = range(10)    # es la lista [0, 1, ..., 9]\n",
    "zero = x[0]      # igual a 0\n",
    "one = x[1]       # igual a 1\n",
    "nine = x[-1]     # igual a 9\n",
    "eight = x[-2]    # igual a 8\n",
    "\n",
    "print (x)\n",
    "print (zero)\n",
    "print (one)\n",
    "print (nine)\n",
    "print (eight)"
   ]
  },
  {
   "cell_type": "code",
   "execution_count": 44,
   "metadata": {
    "slideshow": {
     "slide_type": "subslide"
    }
   },
   "outputs": [
    {
     "name": "stdout",
     "output_type": "stream",
     "text": [
      "range(0, 3)\n",
      "range(3, 10)\n",
      "range(1, 5)\n",
      "range(7, 10)\n",
      "range(1, 9)\n",
      "range(0, 10)\n"
     ]
    }
   ],
   "source": [
    "#You can also use square brackets to “slice” lists:\n",
    "\n",
    "first_three = x[:3]\n",
    "three_to_end = x[3:]\n",
    "one_to_four = x[1:5]\n",
    "last_three = x[-3:]\n",
    "without_first_and_last = x[1:-1]\n",
    "copy_of_x = x[:]\n",
    "\n",
    "print (first_three)\n",
    "print (three_to_end)\n",
    "print (one_to_four)\n",
    "print (last_three)\n",
    "print (without_first_and_last)\n",
    "print (copy_of_x)"
   ]
  },
  {
   "cell_type": "code",
   "execution_count": 46,
   "metadata": {},
   "outputs": [
    {
     "data": {
      "text/plain": [
       "True"
      ]
     },
     "execution_count": 46,
     "metadata": {},
     "output_type": "execute_result"
    }
   ],
   "source": [
    "# Python has an in operator to check for list membership:\n",
    "\n",
    "1 in [1, 2, 3] # True"
   ]
  },
  {
   "cell_type": "code",
   "execution_count": 47,
   "metadata": {},
   "outputs": [
    {
     "data": {
      "text/plain": [
       "False"
      ]
     },
     "execution_count": 47,
     "metadata": {},
     "output_type": "execute_result"
    }
   ],
   "source": [
    "0 in [1, 2, 3] # False"
   ]
  },
  {
   "cell_type": "code",
   "execution_count": 51,
   "metadata": {
    "slideshow": {
     "slide_type": "subslide"
    }
   },
   "outputs": [
    {
     "name": "stdout",
     "output_type": "stream",
     "text": [
      "[1, 2, 3]\n",
      "[1, 2, 3, 4, 5, 6]\n",
      "[1, 2, 3, 4, 5, 6]\n",
      "[1, 2, 3, 0]\n",
      "0\n",
      "4\n"
     ]
    }
   ],
   "source": [
    "# It is easy to concatenate lists together:\n",
    "\n",
    "x = [1,2,3]\n",
    "print (x)\n",
    "\n",
    "x.extend([4,5,6]) # x is now [1,2,3,4,5,6]\n",
    "\n",
    "print (x)\n",
    "\n",
    "x = [1,2,3]\n",
    "y = x + [4,5,6] # y is [1, 2, 3, 4, 5, 6]; x is unchanged\n",
    "\n",
    "print (y)\n",
    "\n",
    "#Agrega un valor a la lista\n",
    "x = [1,2,3]\n",
    "x.append(0) # x is now [1, 2, 3, 0]\n",
    "\n",
    "print (x)\n",
    "\n",
    "y = x[-1] # equals 0\n",
    "z = len(x) # equals 4\n",
    "print(y)\n",
    "print(z)\n"
   ]
  },
  {
   "cell_type": "code",
   "execution_count": 53,
   "metadata": {},
   "outputs": [
    {
     "name": "stdout",
     "output_type": "stream",
     "text": [
      "1 2\n"
     ]
    }
   ],
   "source": [
    "# It is often convenient to unpack lists if you know how many elements they contain:\n",
    "x, y = [1, 2] # now x is 1, y is 2\n",
    "\n",
    "print(x,y)"
   ]
  },
  {
   "cell_type": "code",
   "execution_count": 55,
   "metadata": {},
   "outputs": [
    {
     "name": "stdout",
     "output_type": "stream",
     "text": [
      "1 2\n"
     ]
    }
   ],
   "source": [
    "# It’s common to use an underscore for a value you’re going to throw away:\n",
    "\n",
    "_, y = [1, 2] # now y == 2, didn't care about the first element\n",
    "\n",
    "print(_, y)"
   ]
  },
  {
   "cell_type": "markdown",
   "metadata": {
    "slideshow": {
     "slide_type": "slide"
    }
   },
   "source": [
    "# Tuplas\n",
    "Tuples are lists’ immutable cousins. Pretty much anything you can do to a list that doesn’t\n",
    "involve modifying it, you can do to a tuple. You specify a tuple by using parentheses (or\n",
    "nothing) instead of square brackets:\n"
   ]
  },
  {
   "cell_type": "code",
   "execution_count": 57,
   "metadata": {
    "slideshow": {
     "slide_type": "subslide"
    }
   },
   "outputs": [
    {
     "name": "stdout",
     "output_type": "stream",
     "text": [
      "cannot modify a tuple\n"
     ]
    }
   ],
   "source": [
    "my_list = [1, 2]\n",
    "my_tuple = (1, 2)\n",
    "other_tuple = 3, 4\n",
    "my_list[1] = 3 # my_list is now [1, 3]\n",
    "\n",
    "try:\n",
    "    my_tuple[1] = 3\n",
    "except TypeError:\n",
    "    print (\"cannot modify a tuple\")"
   ]
  },
  {
   "cell_type": "code",
   "execution_count": 58,
   "metadata": {
    "slideshow": {
     "slide_type": "subslide"
    }
   },
   "outputs": [
    {
     "name": "stdout",
     "output_type": "stream",
     "text": [
      "(5, 6)\n",
      "15\n",
      "50\n"
     ]
    }
   ],
   "source": [
    "# Tuples are a convenient way to return multiple values from functions:\n",
    "\n",
    "def sum_and_product(x, y):\n",
    "    return (x + y),(x * y)\n",
    "sp = sum_and_product(2, 3)    # equals (5, 6)\n",
    "s, p = sum_and_product(5, 10) # s is 15, p is 50\n",
    "\n",
    "print (sp)\n",
    "print (s)\n",
    "print (p)"
   ]
  },
  {
   "cell_type": "code",
   "execution_count": 60,
   "metadata": {},
   "outputs": [
    {
     "name": "stdout",
     "output_type": "stream",
     "text": [
      "2 1\n"
     ]
    }
   ],
   "source": [
    "# Tuples (and lists) can also be used for multiple assignment:\n",
    "\n",
    "x, y = 1, 2 # now x is 1, y is 2\n",
    "x, y = y, x # Pythonic way to swap variables; now x is 2, y is 1\n",
    "\n",
    "print(x,y)"
   ]
  },
  {
   "cell_type": "markdown",
   "metadata": {},
   "source": [
    "# Diccionarios\n",
    "Another fundamental data structure is a dictionary, which associates values with keys and\n",
    "allows you to quickly retrieve the value corresponding to a given key:\n"
   ]
  },
  {
   "cell_type": "code",
   "execution_count": 61,
   "metadata": {},
   "outputs": [
    {
     "data": {
      "text/plain": [
       "{'Joel': 80, 'Tim': 95}"
      ]
     },
     "execution_count": 61,
     "metadata": {},
     "output_type": "execute_result"
    }
   ],
   "source": [
    "empty_dict = {} # Pythonic\n",
    "empty_dict2 = dict() # less Pythonic\n",
    "grades = { \"Joel\" : 80, \"Tim\" : 95 } # dictionary literal\n",
    "grades"
   ]
  },
  {
   "cell_type": "code",
   "execution_count": 63,
   "metadata": {},
   "outputs": [
    {
     "data": {
      "text/plain": [
       "80"
      ]
     },
     "execution_count": 63,
     "metadata": {},
     "output_type": "execute_result"
    }
   ],
   "source": [
    "# You can look up the value for a key using square brackets:\n",
    "joels_grade = grades[\"Joel\"] # equals 80\n",
    "\n",
    "joels_grade"
   ]
  },
  {
   "cell_type": "code",
   "execution_count": 69,
   "metadata": {},
   "outputs": [
    {
     "name": "stdout",
     "output_type": "stream",
     "text": [
      "no grade for Kate!\n"
     ]
    }
   ],
   "source": [
    "# But you’ll get a KeyError if you ask for a key that’s not in the dictionary:\n",
    "try:\n",
    "    kates_grade = grades[\"Kate\"]\n",
    "except KeyError:\n",
    "    print (\"no grade for Kate!\")"
   ]
  },
  {
   "cell_type": "code",
   "execution_count": 70,
   "metadata": {},
   "outputs": [],
   "source": [
    "# You can check for the existence of a key using in:\n",
    "\n",
    "joel_has_grade = \"Joel\" in grades # True"
   ]
  },
  {
   "cell_type": "code",
   "execution_count": 68,
   "metadata": {},
   "outputs": [],
   "source": [
    "kate_has_grade = \"Kate\" in grades # False"
   ]
  },
  {
   "cell_type": "code",
   "execution_count": 74,
   "metadata": {},
   "outputs": [
    {
     "name": "stdout",
     "output_type": "stream",
     "text": [
      "80\n",
      "0\n",
      "None\n"
     ]
    }
   ],
   "source": [
    "# Dictionaries have a get method that returns a default value (instead of raising an\n",
    "# exception) when you look up a key that’s not in the dictionary:\n",
    "\n",
    "joels_grade = grades.get(\"Joel\", 0) # equals 80\n",
    "kates_grade = grades.get(\"Kate\", 0) # equals 0\n",
    "no_ones_grade = grades.get(\"No One\") # default default is None\n",
    "print(joels_grade)\n",
    "print(kates_grade)\n",
    "print(no_ones_grade)"
   ]
  },
  {
   "cell_type": "code",
   "execution_count": 76,
   "metadata": {},
   "outputs": [
    {
     "data": {
      "text/plain": [
       "{'Joel': 80, 'Kate': 100, 'Tim': 99}"
      ]
     },
     "execution_count": 76,
     "metadata": {},
     "output_type": "execute_result"
    }
   ],
   "source": [
    "# You assign key-value pairs using the same square brackets:\n",
    "grades[\"Tim\"] = 99 # replaces the old value\n",
    "grades[\"Kate\"] = 100 # adds a third entry\n",
    "num_students = len(grades) # equals 3\n",
    "\n",
    "grades"
   ]
  },
  {
   "cell_type": "code",
   "execution_count": 77,
   "metadata": {},
   "outputs": [
    {
     "data": {
      "text/plain": [
       "{'hashtags': ['#data', '#science', '#datascience', '#awesome', '#yolo'],\n",
       " 'retweet_count': 100,\n",
       " 'text': 'Data Science is Awesome',\n",
       " 'user': 'joelgrus'}"
      ]
     },
     "execution_count": 77,
     "metadata": {},
     "output_type": "execute_result"
    }
   ],
   "source": [
    "# We will frequently use dictionaries as a simple way to represent structured data:\n",
    "\n",
    "tweet = {\n",
    "\"user\" : \"joelgrus\",\n",
    "\"text\" : \"Data Science is Awesome\",\n",
    "\"retweet_count\" : 100,\n",
    "\"hashtags\" : [\"#data\", \"#science\", \"#datascience\", \"#awesome\", \"#yolo\"]\n",
    "}\n",
    "tweet"
   ]
  },
  {
   "cell_type": "code",
   "execution_count": 78,
   "metadata": {},
   "outputs": [
    {
     "data": {
      "text/plain": [
       "True"
      ]
     },
     "execution_count": 78,
     "metadata": {},
     "output_type": "execute_result"
    }
   ],
   "source": [
    "# Besides looking for specific keys we can look at all of them:\n",
    "\n",
    "tweet_keys = tweet.keys() # list of keys\n",
    "tweet_values = tweet.values() # list of values\n",
    "tweet_items = tweet.items() # list of (key, value) tuples\n",
    "\"user\" in tweet_keys # True, but uses a slow list in\n",
    "\"user\" in tweet # more Pythonic, uses faster dict in\n",
    "\"joelgrus\" in tweet_values # True"
   ]
  },
  {
   "cell_type": "markdown",
   "metadata": {},
   "source": [
    "# defaultdict\n",
    "\n",
    "Imagine that you’re trying to count the words in a document. An obvious approach is to\n",
    "create a dictionary in which the keys are words and the values are counts. As you check\n",
    "each word, you can increment its count if it’s already in the dictionary and add it to the\n",
    "dictionary if it’s not:\n"
   ]
  },
  {
   "cell_type": "code",
   "execution_count": 92,
   "metadata": {},
   "outputs": [
    {
     "data": {
      "text/plain": [
       "{'\\n': 3,\n",
       " ' ': 51,\n",
       " ',': 1,\n",
       " '.': 2,\n",
       " ':': 1,\n",
       " 'A': 2,\n",
       " 'I': 1,\n",
       " 'a': 20,\n",
       " 'b': 1,\n",
       " 'c': 15,\n",
       " 'd': 12,\n",
       " 'e': 19,\n",
       " 'f': 2,\n",
       " 'g': 2,\n",
       " 'h': 11,\n",
       " 'i': 21,\n",
       " 'k': 2,\n",
       " 'l': 2,\n",
       " 'm': 3,\n",
       " 'n': 19,\n",
       " 'o': 20,\n",
       " 'p': 2,\n",
       " 'r': 14,\n",
       " 's': 11,\n",
       " 't': 25,\n",
       " 'u': 9,\n",
       " 'v': 2,\n",
       " 'w': 4,\n",
       " 'y': 9,\n",
       " '’': 3}"
      ]
     },
     "execution_count": 92,
     "metadata": {},
     "output_type": "execute_result"
    }
   ],
   "source": [
    "document = \"\"\"Imagine that you’re trying to count the words in a document. An obvious approach is to\n",
    "create a dictionary in which the keys are words and the values are counts. As you check\n",
    "each word, you can increment its count if it’s already in the dictionary and add it to the\n",
    "dictionary if it’s not:\"\"\"\n",
    "word_counts = {}\n",
    "for word in document:\n",
    "    if word in word_counts:\n",
    "        word_counts[word] += 1\n",
    "    else:\n",
    "        word_counts[word] = 1\n",
    "word_counts"
   ]
  },
  {
   "cell_type": "code",
   "execution_count": 93,
   "metadata": {},
   "outputs": [
    {
     "data": {
      "text/plain": [
       "{'\\n': 3,\n",
       " ' ': 51,\n",
       " ',': 1,\n",
       " '.': 2,\n",
       " ':': 1,\n",
       " 'A': 2,\n",
       " 'I': 1,\n",
       " 'a': 20,\n",
       " 'b': 1,\n",
       " 'c': 15,\n",
       " 'd': 12,\n",
       " 'e': 19,\n",
       " 'f': 2,\n",
       " 'g': 2,\n",
       " 'h': 11,\n",
       " 'i': 21,\n",
       " 'k': 2,\n",
       " 'l': 2,\n",
       " 'm': 3,\n",
       " 'n': 19,\n",
       " 'o': 20,\n",
       " 'p': 2,\n",
       " 'r': 14,\n",
       " 's': 11,\n",
       " 't': 25,\n",
       " 'u': 9,\n",
       " 'v': 2,\n",
       " 'w': 4,\n",
       " 'y': 9,\n",
       " '’': 3}"
      ]
     },
     "execution_count": 93,
     "metadata": {},
     "output_type": "execute_result"
    }
   ],
   "source": [
    "# You could also use the “forgiveness is better than permission” approach and just handle\n",
    "# the exception from trying to look up a missing key:\n",
    "\n",
    "word_counts = {}\n",
    "for word in document:\n",
    "    try:\n",
    "        word_counts[word] += 1\n",
    "    except KeyError:\n",
    "        word_counts[word] = 1\n",
    "word_counts"
   ]
  },
  {
   "cell_type": "code",
   "execution_count": 94,
   "metadata": {},
   "outputs": [
    {
     "data": {
      "text/plain": [
       "{'\\n': 3,\n",
       " ' ': 51,\n",
       " ',': 1,\n",
       " '.': 2,\n",
       " ':': 1,\n",
       " 'A': 2,\n",
       " 'I': 1,\n",
       " 'a': 20,\n",
       " 'b': 1,\n",
       " 'c': 15,\n",
       " 'd': 12,\n",
       " 'e': 19,\n",
       " 'f': 2,\n",
       " 'g': 2,\n",
       " 'h': 11,\n",
       " 'i': 21,\n",
       " 'k': 2,\n",
       " 'l': 2,\n",
       " 'm': 3,\n",
       " 'n': 19,\n",
       " 'o': 20,\n",
       " 'p': 2,\n",
       " 'r': 14,\n",
       " 's': 11,\n",
       " 't': 25,\n",
       " 'u': 9,\n",
       " 'v': 2,\n",
       " 'w': 4,\n",
       " 'y': 9,\n",
       " '’': 3}"
      ]
     },
     "execution_count": 94,
     "metadata": {},
     "output_type": "execute_result"
    }
   ],
   "source": [
    "# A third approach is to use get, which behaves gracefully for missing keys:\n",
    "word_counts = {}\n",
    "for word in document:\n",
    "    previous_count = word_counts.get(word, 0)\n",
    "    word_counts[word] = previous_count + 1\n",
    "word_counts"
   ]
  },
  {
   "cell_type": "markdown",
   "metadata": {},
   "source": [
    "Every one of these is slightly unwieldy, which is why defaultdict is useful. A\n",
    "defaultdict is like a regular dictionary, except that when you try to look up a key it\n",
    "doesn’t contain, it first adds a value for it using a zero-argument function you provided\n",
    "when you created it. In order to use defaultdicts, you have to import them from\n",
    "collections:"
   ]
  },
  {
   "cell_type": "code",
   "execution_count": 83,
   "metadata": {},
   "outputs": [
    {
     "ename": "NameError",
     "evalue": "name 'document' is not defined",
     "output_type": "error",
     "traceback": [
      "\u001b[1;31m---------------------------------------------------------------------------\u001b[0m",
      "\u001b[1;31mNameError\u001b[0m                                 Traceback (most recent call last)",
      "\u001b[1;32m<ipython-input-83-c416c34ca444>\u001b[0m in \u001b[0;36m<module>\u001b[1;34m()\u001b[0m\n\u001b[0;32m      1\u001b[0m \u001b[1;32mfrom\u001b[0m \u001b[0mcollections\u001b[0m \u001b[1;32mimport\u001b[0m \u001b[0mdefaultdict\u001b[0m\u001b[1;33m\u001b[0m\u001b[0m\n\u001b[0;32m      2\u001b[0m \u001b[0mword_counts\u001b[0m \u001b[1;33m=\u001b[0m \u001b[0mdefaultdict\u001b[0m\u001b[1;33m(\u001b[0m\u001b[0mint\u001b[0m\u001b[1;33m)\u001b[0m \u001b[1;31m# int() produces 0\u001b[0m\u001b[1;33m\u001b[0m\u001b[0m\n\u001b[1;32m----> 3\u001b[1;33m \u001b[1;32mfor\u001b[0m \u001b[0mword\u001b[0m \u001b[1;32min\u001b[0m \u001b[0mdocument\u001b[0m\u001b[1;33m:\u001b[0m\u001b[1;33m\u001b[0m\u001b[0m\n\u001b[0m\u001b[0;32m      4\u001b[0m     \u001b[0mword_counts\u001b[0m\u001b[1;33m[\u001b[0m\u001b[0mword\u001b[0m\u001b[1;33m]\u001b[0m \u001b[1;33m+=\u001b[0m \u001b[1;36m1\u001b[0m\u001b[1;33m\u001b[0m\u001b[0m\n",
      "\u001b[1;31mNameError\u001b[0m: name 'document' is not defined"
     ]
    }
   ],
   "source": [
    "from collections import defaultdict\n",
    "word_counts = defaultdict(int) # int() produces 0\n",
    "for word in document: \n",
    "    word_counts[word] += 1"
   ]
  },
  {
   "cell_type": "code",
   "execution_count": 85,
   "metadata": {},
   "outputs": [
    {
     "data": {
      "text/plain": [
       "defaultdict(<function __main__.<lambda>>, {2: [0, 1]})"
      ]
     },
     "execution_count": 85,
     "metadata": {},
     "output_type": "execute_result"
    }
   ],
   "source": [
    "# They can also be useful with list or dict or even your own functions:\n",
    "dd_list = defaultdict(list) # list() produces an empty list\n",
    "dd_list[2].append(1) # now dd_list contains {2: [1]}\n",
    "dd_dict = defaultdict(dict) # dict() produces an empty dict\n",
    "dd_dict[\"Joel\"][\"City\"] = \"Seattle\" # { \"Joel\" : { \"City\" : Seattle\"}}\n",
    "dd_pair = defaultdict(lambda: [0, 0])\n",
    "dd_pair[2][1] = 1 # now dd_pair contains {2: [0,1]}\n",
    "\n",
    "dd_pair\n"
   ]
  },
  {
   "cell_type": "markdown",
   "metadata": {},
   "source": [
    "# Contador = Counter"
   ]
  },
  {
   "cell_type": "code",
   "execution_count": 86,
   "metadata": {},
   "outputs": [
    {
     "data": {
      "text/plain": [
       "Counter({0: 2, 1: 1, 2: 1})"
      ]
     },
     "execution_count": 86,
     "metadata": {},
     "output_type": "execute_result"
    }
   ],
   "source": [
    "# A Counter turns a sequence of values into a defaultdict(int)-like object mapping keys\n",
    "# to counts. We will primarily use it to create histograms:\n",
    "\n",
    "from collections import Counter\n",
    "c = Counter([0, 1, 2, 0]) # c is (basically) { 0 : 2, 1 : 1, 2 : 1 }\n",
    "c"
   ]
  },
  {
   "cell_type": "code",
   "execution_count": 90,
   "metadata": {},
   "outputs": [
    {
     "data": {
      "text/plain": [
       "Counter({' ': 11,\n",
       "         ':': 1,\n",
       "         'T': 1,\n",
       "         '_': 1,\n",
       "         'a': 2,\n",
       "         'b': 1,\n",
       "         'c': 1,\n",
       "         'd': 1,\n",
       "         'e': 5,\n",
       "         'g': 1,\n",
       "         'h': 1,\n",
       "         'i': 3,\n",
       "         'l': 3,\n",
       "         'm': 2,\n",
       "         'n': 1,\n",
       "         'o': 6,\n",
       "         'p': 2,\n",
       "         'r': 4,\n",
       "         's': 6,\n",
       "         't': 2,\n",
       "         'u': 3,\n",
       "         'v': 3,\n",
       "         'w': 2,\n",
       "         'y': 2})"
      ]
     },
     "execution_count": 90,
     "metadata": {},
     "output_type": "execute_result"
    }
   ],
   "source": [
    "# This gives us a very simple way to solve our word_counts problem:\n",
    "\n",
    "document = \"This gives us a very simple way to solve our word_counts problem:\"\n",
    "word_counts = Counter(document)\n",
    "word_counts"
   ]
  },
  {
   "cell_type": "code",
   "execution_count": 107,
   "metadata": {},
   "outputs": [
    {
     "ename": "AttributeError",
     "evalue": "'dict' object has no attribute 'most_common'",
     "output_type": "error",
     "traceback": [
      "\u001b[1;31m---------------------------------------------------------------------------\u001b[0m",
      "\u001b[1;31mAttributeError\u001b[0m                            Traceback (most recent call last)",
      "\u001b[1;32m<ipython-input-107-6b081094288a>\u001b[0m in \u001b[0;36m<module>\u001b[1;34m()\u001b[0m\n\u001b[0;32m      2\u001b[0m \u001b[1;31m# print the 10 most common words and their counts\u001b[0m\u001b[1;33m\u001b[0m\u001b[1;33m\u001b[0m\u001b[0m\n\u001b[0;32m      3\u001b[0m \u001b[1;33m\u001b[0m\u001b[0m\n\u001b[1;32m----> 4\u001b[1;33m \u001b[1;32mfor\u001b[0m \u001b[0mword\u001b[0m\u001b[1;33m,\u001b[0m \u001b[0mcount\u001b[0m \u001b[1;32min\u001b[0m \u001b[0mword_counts\u001b[0m\u001b[1;33m.\u001b[0m\u001b[0mmost_common\u001b[0m\u001b[1;33m(\u001b[0m\u001b[1;36m10\u001b[0m\u001b[1;33m)\u001b[0m\u001b[1;33m:\u001b[0m\u001b[1;33m\u001b[0m\u001b[0m\n\u001b[0m\u001b[0;32m      5\u001b[0m     \u001b[0mprint\u001b[0m \u001b[1;33m(\u001b[0m\u001b[0mword\u001b[0m\u001b[1;33m,\u001b[0m \u001b[0mcount\u001b[0m\u001b[1;33m)\u001b[0m\u001b[1;33m\u001b[0m\u001b[0m\n",
      "\u001b[1;31mAttributeError\u001b[0m: 'dict' object has no attribute 'most_common'"
     ]
    }
   ],
   "source": [
    "# A Counter instance has a most_common method that is frequently useful:\n",
    "# print the 10 most common words and their counts\n",
    "\n",
    "for word, count in word_counts.most_common(10):\n",
    "    print (word, count)"
   ]
  },
  {
   "cell_type": "markdown",
   "metadata": {
    "slideshow": {
     "slide_type": "slide"
    }
   },
   "source": [
    "# Sets\n",
    "Another data structure is set, which represents a collection of distinct elements:"
   ]
  },
  {
   "cell_type": "code",
   "execution_count": 108,
   "metadata": {},
   "outputs": [
    {
     "name": "stdout",
     "output_type": "stream",
     "text": [
      "2\n",
      "True\n",
      "False\n"
     ]
    }
   ],
   "source": [
    "s = set()\n",
    "s.add(1)    # s is now { 1 }\n",
    "s.add(2)    # s is now { 1, 2 }\n",
    "s.add(2)    # s is still { 1, 2 }\n",
    "x = len(s)  # equals 2\n",
    "y = 2 in s  # equals True\n",
    "z = 3 in s  # equals False\n",
    "\n",
    "print (x)\n",
    "print (y)\n",
    "print (z)"
   ]
  },
  {
   "cell_type": "code",
   "execution_count": 111,
   "metadata": {},
   "outputs": [
    {
     "data": {
      "text/plain": [
       "False"
      ]
     },
     "execution_count": 111,
     "metadata": {},
     "output_type": "execute_result"
    }
   ],
   "source": [
    "# We’ll use sets for two main reasons. The first is that in is a very fast operation on sets. If\n",
    "# we have a large collection of items that we want to use for a membership test, a set is more\n",
    "# appropriate than a list:\n",
    "\n",
    "hundreds_of_other_words = [\"qa\",\"aen\",\"at\"]\n",
    "stopwords_list = [\"a\",\"an\",\"at\"] + hundreds_of_other_words + [\"yet\", \"you\"]\n",
    "\"zip\" in stopwords_list # False, but have to check every element\n",
    "stopwords_set = set(stopwords_list)\n",
    "\"zip\" in stopwords_set # very fast to check"
   ]
  },
  {
   "cell_type": "code",
   "execution_count": 113,
   "metadata": {},
   "outputs": [
    {
     "data": {
      "text/plain": [
       "[1, 2, 3]"
      ]
     },
     "execution_count": 113,
     "metadata": {},
     "output_type": "execute_result"
    }
   ],
   "source": [
    "# The second reason is to find the distinct items in a collection:\n",
    "\n",
    "item_list = [1, 2, 3, 1, 2, 3]\n",
    "num_items = len(item_list) # 6\n",
    "item_set = set(item_list) # {1, 2, 3}\n",
    "num_distinct_items = len(item_set) # 3\n",
    "distinct_item_list = list(item_set) # [1, 2, 3]\n",
    "\n",
    "distinct_item_list"
   ]
  },
  {
   "cell_type": "markdown",
   "metadata": {
    "slideshow": {
     "slide_type": "slide"
    }
   },
   "source": [
    "# Flujos de Control\n",
    "As in most programming languages, you can perform an action conditionally using if:"
   ]
  },
  {
   "cell_type": "code",
   "execution_count": 114,
   "metadata": {
    "slideshow": {
     "slide_type": "subslide"
    }
   },
   "outputs": [
    {
     "name": "stdout",
     "output_type": "stream",
     "text": [
      "when all else fails use else (if you want to)\n"
     ]
    }
   ],
   "source": [
    "# 'if'\n",
    "\n",
    "if 1 > 2:\n",
    "    message = \"if only 1 were greater than two...\"\n",
    "elif 1 > 3:\n",
    "    message = \"elif stands for 'else if'\"\n",
    "else:\n",
    "    message = \"when all else fails use else (if you want to)\"\n",
    "print (message)\n",
    "\n"
   ]
  },
  {
   "cell_type": "code",
   "execution_count": 116,
   "metadata": {},
   "outputs": [
    {
     "name": "stdout",
     "output_type": "stream",
     "text": [
      "even\n"
     ]
    }
   ],
   "source": [
    "# You can also write a ternary if-then-else on one line, which we will do occasionally:\n",
    "\n",
    "parity = \"even\" if x % 2 == 0 else \"odd\"\n",
    "print (parity)"
   ]
  },
  {
   "cell_type": "code",
   "execution_count": 118,
   "metadata": {
    "slideshow": {
     "slide_type": "subslide"
    }
   },
   "outputs": [
    {
     "name": "stdout",
     "output_type": "stream",
     "text": [
      "0 is less than 10\n",
      "1 is less than 10\n",
      "2 is less than 10\n",
      "3 is less than 10\n",
      "4 is less than 10\n",
      "5 is less than 10\n",
      "6 is less than 10\n",
      "7 is less than 10\n",
      "8 is less than 10\n",
      "9 is less than 10\n"
     ]
    }
   ],
   "source": [
    "# Python has a while loop:\n",
    "x = 0\n",
    "while x < 10:\n",
    "    print (x, \"is less than 10\")\n",
    "    x += 1\n"
   ]
  },
  {
   "cell_type": "code",
   "execution_count": 119,
   "metadata": {
    "slideshow": {
     "slide_type": "subslide"
    }
   },
   "outputs": [
    {
     "name": "stdout",
     "output_type": "stream",
     "text": [
      "0 is less than 10\n",
      "1 is less than 10\n",
      "2 is less than 10\n",
      "3 is less than 10\n",
      "4 is less than 10\n",
      "5 is less than 10\n",
      "6 is less than 10\n",
      "7 is less than 10\n",
      "8 is less than 10\n",
      "9 is less than 10\n"
     ]
    }
   ],
   "source": [
    "# although more often we’ll use for and in:\n",
    "\n",
    "for x in range(10):\n",
    "    print (x, \"is less than 10\")"
   ]
  },
  {
   "cell_type": "code",
   "execution_count": 122,
   "metadata": {
    "slideshow": {
     "slide_type": "subslide"
    }
   },
   "outputs": [
    {
     "name": "stdout",
     "output_type": "stream",
     "text": [
      "0\n",
      "1\n",
      "2\n",
      "4\n"
     ]
    }
   ],
   "source": [
    "# If you need more-complex logic, you can use continue and break:\n",
    "\n",
    "for y in range(10):\n",
    "    if y == 3:\n",
    "        continue # go immediately to the next iteration\n",
    "    if y == 5:\n",
    "        break # quit the loop entirely\n",
    "    print (y)"
   ]
  },
  {
   "cell_type": "markdown",
   "metadata": {
    "slideshow": {
     "slide_type": "slide"
    }
   },
   "source": [
    "# Booleanos\n",
    "Booleans in Python work as in most other languages, except that they’re capitalized:"
   ]
  },
  {
   "cell_type": "code",
   "execution_count": 123,
   "metadata": {
    "slideshow": {
     "slide_type": "subslide"
    }
   },
   "outputs": [
    {
     "name": "stdout",
     "output_type": "stream",
     "text": [
      "True\n",
      "False\n"
     ]
    }
   ],
   "source": [
    "one_is_less_than_two = 1 < 2       # equals True\n",
    "true_equals_false = True == False  # equals False\n",
    "\n",
    "print (one_is_less_than_two)\n",
    "print (true_equals_false)"
   ]
  },
  {
   "cell_type": "code",
   "execution_count": 125,
   "metadata": {
    "slideshow": {
     "slide_type": "subslide"
    }
   },
   "outputs": [
    {
     "name": "stdout",
     "output_type": "stream",
     "text": [
      "True\n",
      "True\n",
      "None\n"
     ]
    }
   ],
   "source": [
    "# Python uses the value None to indicate a nonexistent value. It is similar to other languages’ null:\n",
    "x = None\n",
    "print (x == None)    # prints True, but is not Pythonic\n",
    "print (x is None)    # prints True, and is Pythonic\n",
    "\n",
    "print (x)"
   ]
  },
  {
   "cell_type": "code",
   "execution_count": 129,
   "metadata": {},
   "outputs": [
    {
     "ename": "NameError",
     "evalue": "name 'some_function_that_returns_a_string' is not defined",
     "output_type": "error",
     "traceback": [
      "\u001b[1;31m---------------------------------------------------------------------------\u001b[0m",
      "\u001b[1;31mNameError\u001b[0m                                 Traceback (most recent call last)",
      "\u001b[1;32m<ipython-input-129-4d2c312d9a1e>\u001b[0m in \u001b[0;36m<module>\u001b[1;34m()\u001b[0m\n\u001b[1;32m----> 1\u001b[1;33m \u001b[0ms\u001b[0m \u001b[1;33m=\u001b[0m \u001b[0msome_function_that_returns_a_string\u001b[0m\u001b[1;33m(\u001b[0m\u001b[1;33m)\u001b[0m\u001b[1;33m\u001b[0m\u001b[0m\n\u001b[0m\u001b[0;32m      2\u001b[0m \u001b[1;33m\u001b[0m\u001b[0m\n\u001b[0;32m      3\u001b[0m \u001b[1;32mif\u001b[0m \u001b[0ms\u001b[0m\u001b[1;33m:\u001b[0m\u001b[1;33m\u001b[0m\u001b[0m\n\u001b[0;32m      4\u001b[0m     \u001b[0mfirst_char\u001b[0m \u001b[1;33m=\u001b[0m \u001b[0ms\u001b[0m\u001b[1;33m[\u001b[0m\u001b[1;36m0\u001b[0m\u001b[1;33m]\u001b[0m\u001b[1;33m\u001b[0m\u001b[0m\n\u001b[0;32m      5\u001b[0m \u001b[1;32melse\u001b[0m\u001b[1;33m:\u001b[0m\u001b[1;33m\u001b[0m\u001b[0m\n",
      "\u001b[1;31mNameError\u001b[0m: name 'some_function_that_returns_a_string' is not defined"
     ]
    }
   ],
   "source": [
    "s = some_function_that_returns_a_string()\n",
    "\n",
    "if s: \n",
    "    first_char = s[0]\n",
    "else:\n",
    "    first_char = \"\"\n"
   ]
  },
  {
   "cell_type": "code",
   "execution_count": 130,
   "metadata": {},
   "outputs": [
    {
     "ename": "TypeError",
     "evalue": "'set' object does not support indexing",
     "output_type": "error",
     "traceback": [
      "\u001b[1;31m---------------------------------------------------------------------------\u001b[0m",
      "\u001b[1;31mTypeError\u001b[0m                                 Traceback (most recent call last)",
      "\u001b[1;32m<ipython-input-130-1dda2a525845>\u001b[0m in \u001b[0;36m<module>\u001b[1;34m()\u001b[0m\n\u001b[0;32m      1\u001b[0m \u001b[1;31m# A simpler way of doing the same is:\u001b[0m\u001b[1;33m\u001b[0m\u001b[1;33m\u001b[0m\u001b[0m\n\u001b[0;32m      2\u001b[0m \u001b[1;33m\u001b[0m\u001b[0m\n\u001b[1;32m----> 3\u001b[1;33m \u001b[0mfirst_char\u001b[0m \u001b[1;33m=\u001b[0m \u001b[0ms\u001b[0m \u001b[1;32mand\u001b[0m \u001b[0ms\u001b[0m\u001b[1;33m[\u001b[0m\u001b[1;36m0\u001b[0m\u001b[1;33m]\u001b[0m\u001b[1;33m\u001b[0m\u001b[0m\n\u001b[0m",
      "\u001b[1;31mTypeError\u001b[0m: 'set' object does not support indexing"
     ]
    }
   ],
   "source": [
    "# A simpler way of doing the same is:\n",
    "\n",
    "first_char = s and s[0]"
   ]
  },
  {
   "cell_type": "code",
   "execution_count": 132,
   "metadata": {},
   "outputs": [
    {
     "data": {
      "text/plain": [
       "0"
      ]
     },
     "execution_count": 132,
     "metadata": {},
     "output_type": "execute_result"
    }
   ],
   "source": [
    "safe_x = x or 0\n",
    "safe_x"
   ]
  },
  {
   "cell_type": "code",
   "execution_count": 133,
   "metadata": {},
   "outputs": [
    {
     "data": {
      "text/plain": [
       "False"
      ]
     },
     "execution_count": 133,
     "metadata": {},
     "output_type": "execute_result"
    }
   ],
   "source": [
    "# Python has an all function, which takes a list and returns True precisely when every\n",
    "# element is truthy, and an any function, which returns True when at least one element is\n",
    "# truthy:\n",
    "\n",
    "all([True, 1, { 3 }]) # True\n",
    "all([True, 1, {}]) # False, {} is falsy\n",
    "any([True, 1, {}]) # True, True is truthy\n",
    "all([]) # True, no falsy elements in the list\n",
    "any([]) # False, no truthy elements in the list"
   ]
  },
  {
   "cell_type": "markdown",
   "metadata": {},
   "source": [
    "# Ordenado\n",
    "Every Python list has a sort method that sorts it in place. If you don’t want to mess up\n",
    "your list, you can use the sorted function, which returns a new list:\n"
   ]
  },
  {
   "cell_type": "code",
   "execution_count": null,
   "metadata": {},
   "outputs": [],
   "source": []
  }
 ],
 "metadata": {
  "kernelspec": {
   "display_name": "Python 3",
   "language": "python",
   "name": "python3"
  },
  "language_info": {
   "codemirror_mode": {
    "name": "ipython",
    "version": 3
   },
   "file_extension": ".py",
   "mimetype": "text/x-python",
   "name": "python",
   "nbconvert_exporter": "python",
   "pygments_lexer": "ipython3",
   "version": "3.6.4"
  }
 },
 "nbformat": 4,
 "nbformat_minor": 2
}
